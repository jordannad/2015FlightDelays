{
 "cells": [
  {
   "cell_type": "markdown",
   "metadata": {},
   "source": [
    "### Simple Analysis of 2015 Flight Delay data from Kaggle\n",
    "\n",
    "Here we analyze 2015 flights within the US. The data are obtained from Kaggle and include three files:\n",
    "1. airports.csv\n",
    "2. airlines.csv\n",
    "3. flights.csv\n",
    "The airports.csv file was modified to include the timezone (David Olson format) for each airport. This will be useful for joining weather data which is specified in UTC time.\n",
    "\n",
    "We begin by loading required libraries and cleaning the data. The time columns in the flights dataframe are listed as integers with last two digits corresponding to minutes and the first one/two corresponding to hours. We convert these to a time object using the lubridate package.\n"
   ]
  },
  {
   "cell_type": "code",
   "execution_count": 3,
   "metadata": {},
   "outputs": [],
   "source": [
    "listOfPackages = c(\"plyr\", \"dplyr\", \"lubridate\", \"ggplot2\", \"data.table\", \"maps\",\n",
    "                  \"geosphere\", \"tidyr\", \"repr\", \"cowplot\", \"ggrepel\", \"gridExtra\")\n",
    "newPackages <- listOfPackages[!(listOfPackages %in% installed.packages()[,\"Package\"])]\n",
    "if(length(newPackages)) install.packages(newPackages)\n",
    "\n",
    "library(plyr)\n",
    "library(dplyr)\n",
    "library(lubridate)\n",
    "library(ggplot2)\n",
    "library(data.table)\n",
    "library(maps)\n",
    "library(geosphere)\n",
    "library(tidyr)\n",
    "library(repr)\n",
    "library(cowplot)\n",
    "library(ggrepel)\n",
    "library(gridExtra)"
   ]
  },
  {
   "cell_type": "code",
   "execution_count": 4,
   "metadata": {},
   "outputs": [],
   "source": [
    "#Helper functions to process data\n",
    "Mode <- function(x) {\n",
    "  ux <- unique(x)\n",
    "  ux[which.max(tabulate(match(x, ux)))]\n",
    "}\n",
    "\n",
    "convertTime = function(numberTimes) {\n",
    "  hours = numberTimes %/% 100\n",
    "  minutes = numberTimes %% 100\n",
    "  time = substr(as.POSIXct(paste(hours, minutes), format = '%H%M'), 12, 16)\n",
    "  return(time)\n",
    "}\n",
    "\n",
    "combineDate = function(year, month, day) {\n",
    "  return(as.Date(paste(year, month, day, sep = \"-\"), format=\"%Y-%m-%d\"))\n",
    "}\n",
    "\n",
    "combineDateTime = function(year, month, day, numberTimes) {\n",
    "  times = convertTime(numberTimes)\n",
    "  dates = combineDate(year, month, day)\n",
    "  fulldatetime = as.POSIXct(paste(dates, times), format=\"%Y-%m-%d %H:%M\")\n",
    "  return(fulldatetime)\n",
    "}"
   ]
  },
  {
   "cell_type": "code",
   "execution_count": 5,
   "metadata": {},
   "outputs": [],
   "source": [
    "setwd(\"C:/Users/jordanna/Documents/FlightDelayProject\")\n",
    "\n",
    "flights = read.table(file(\"data/flights.csv\"), header = T, sep = \",\", \n",
    "                    stringsAsFactors = FALSE)"
   ]
  },
  {
   "cell_type": "code",
   "execution_count": 6,
   "metadata": {},
   "outputs": [
    {
     "name": "stdout",
     "output_type": "stream",
     "text": [
      "Missing values:"
     ]
    },
    {
     "data": {
      "text/html": [
       "<dl class=dl-horizontal>\n",
       "\t<dt>YEAR</dt>\n",
       "\t\t<dd>0</dd>\n",
       "\t<dt>MONTH</dt>\n",
       "\t\t<dd>0</dd>\n",
       "\t<dt>DAY</dt>\n",
       "\t\t<dd>0</dd>\n",
       "\t<dt>DAY_OF_WEEK</dt>\n",
       "\t\t<dd>0</dd>\n",
       "\t<dt>AIRLINE</dt>\n",
       "\t\t<dd>0</dd>\n",
       "\t<dt>FLIGHT_NUMBER</dt>\n",
       "\t\t<dd>0</dd>\n",
       "\t<dt>TAIL_NUMBER</dt>\n",
       "\t\t<dd>0</dd>\n",
       "\t<dt>ORIGIN_AIRPORT</dt>\n",
       "\t\t<dd>0</dd>\n",
       "\t<dt>DESTINATION_AIRPORT</dt>\n",
       "\t\t<dd>0</dd>\n",
       "\t<dt>SCHEDULED_DEPARTURE</dt>\n",
       "\t\t<dd>0</dd>\n",
       "\t<dt>DEPARTURE_TIME</dt>\n",
       "\t\t<dd>86153</dd>\n",
       "\t<dt>DEPARTURE_DELAY</dt>\n",
       "\t\t<dd>86153</dd>\n",
       "\t<dt>TAXI_OUT</dt>\n",
       "\t\t<dd>89047</dd>\n",
       "\t<dt>WHEELS_OFF</dt>\n",
       "\t\t<dd>89047</dd>\n",
       "\t<dt>SCHEDULED_TIME</dt>\n",
       "\t\t<dd>6</dd>\n",
       "\t<dt>ELAPSED_TIME</dt>\n",
       "\t\t<dd>105071</dd>\n",
       "\t<dt>AIR_TIME</dt>\n",
       "\t\t<dd>105071</dd>\n",
       "\t<dt>DISTANCE</dt>\n",
       "\t\t<dd>0</dd>\n",
       "\t<dt>WHEELS_ON</dt>\n",
       "\t\t<dd>92513</dd>\n",
       "\t<dt>TAXI_IN</dt>\n",
       "\t\t<dd>92513</dd>\n",
       "\t<dt>SCHEDULED_ARRIVAL</dt>\n",
       "\t\t<dd>0</dd>\n",
       "\t<dt>ARRIVAL_TIME</dt>\n",
       "\t\t<dd>92513</dd>\n",
       "\t<dt>ARRIVAL_DELAY</dt>\n",
       "\t\t<dd>105071</dd>\n",
       "\t<dt>DIVERTED</dt>\n",
       "\t\t<dd>0</dd>\n",
       "\t<dt>CANCELLED</dt>\n",
       "\t\t<dd>0</dd>\n",
       "\t<dt>CANCELLATION_REASON</dt>\n",
       "\t\t<dd>0</dd>\n",
       "\t<dt>AIR_SYSTEM_DELAY</dt>\n",
       "\t\t<dd>4755640</dd>\n",
       "\t<dt>SECURITY_DELAY</dt>\n",
       "\t\t<dd>4755640</dd>\n",
       "\t<dt>AIRLINE_DELAY</dt>\n",
       "\t\t<dd>4755640</dd>\n",
       "\t<dt>LATE_AIRCRAFT_DELAY</dt>\n",
       "\t\t<dd>4755640</dd>\n",
       "\t<dt>WEATHER_DELAY</dt>\n",
       "\t\t<dd>4755640</dd>\n",
       "</dl>\n"
      ],
      "text/latex": [
       "\\begin{description*}\n",
       "\\item[YEAR] 0\n",
       "\\item[MONTH] 0\n",
       "\\item[DAY] 0\n",
       "\\item[DAY\\textbackslash{}\\_OF\\textbackslash{}\\_WEEK] 0\n",
       "\\item[AIRLINE] 0\n",
       "\\item[FLIGHT\\textbackslash{}\\_NUMBER] 0\n",
       "\\item[TAIL\\textbackslash{}\\_NUMBER] 0\n",
       "\\item[ORIGIN\\textbackslash{}\\_AIRPORT] 0\n",
       "\\item[DESTINATION\\textbackslash{}\\_AIRPORT] 0\n",
       "\\item[SCHEDULED\\textbackslash{}\\_DEPARTURE] 0\n",
       "\\item[DEPARTURE\\textbackslash{}\\_TIME] 86153\n",
       "\\item[DEPARTURE\\textbackslash{}\\_DELAY] 86153\n",
       "\\item[TAXI\\textbackslash{}\\_OUT] 89047\n",
       "\\item[WHEELS\\textbackslash{}\\_OFF] 89047\n",
       "\\item[SCHEDULED\\textbackslash{}\\_TIME] 6\n",
       "\\item[ELAPSED\\textbackslash{}\\_TIME] 105071\n",
       "\\item[AIR\\textbackslash{}\\_TIME] 105071\n",
       "\\item[DISTANCE] 0\n",
       "\\item[WHEELS\\textbackslash{}\\_ON] 92513\n",
       "\\item[TAXI\\textbackslash{}\\_IN] 92513\n",
       "\\item[SCHEDULED\\textbackslash{}\\_ARRIVAL] 0\n",
       "\\item[ARRIVAL\\textbackslash{}\\_TIME] 92513\n",
       "\\item[ARRIVAL\\textbackslash{}\\_DELAY] 105071\n",
       "\\item[DIVERTED] 0\n",
       "\\item[CANCELLED] 0\n",
       "\\item[CANCELLATION\\textbackslash{}\\_REASON] 0\n",
       "\\item[AIR\\textbackslash{}\\_SYSTEM\\textbackslash{}\\_DELAY] 4755640\n",
       "\\item[SECURITY\\textbackslash{}\\_DELAY] 4755640\n",
       "\\item[AIRLINE\\textbackslash{}\\_DELAY] 4755640\n",
       "\\item[LATE\\textbackslash{}\\_AIRCRAFT\\textbackslash{}\\_DELAY] 4755640\n",
       "\\item[WEATHER\\textbackslash{}\\_DELAY] 4755640\n",
       "\\end{description*}\n"
      ],
      "text/markdown": [
       "YEAR\n",
       ":   0MONTH\n",
       ":   0DAY\n",
       ":   0DAY_OF_WEEK\n",
       ":   0AIRLINE\n",
       ":   0FLIGHT_NUMBER\n",
       ":   0TAIL_NUMBER\n",
       ":   0ORIGIN_AIRPORT\n",
       ":   0DESTINATION_AIRPORT\n",
       ":   0SCHEDULED_DEPARTURE\n",
       ":   0DEPARTURE_TIME\n",
       ":   86153DEPARTURE_DELAY\n",
       ":   86153TAXI_OUT\n",
       ":   89047WHEELS_OFF\n",
       ":   89047SCHEDULED_TIME\n",
       ":   6ELAPSED_TIME\n",
       ":   105071AIR_TIME\n",
       ":   105071DISTANCE\n",
       ":   0WHEELS_ON\n",
       ":   92513TAXI_IN\n",
       ":   92513SCHEDULED_ARRIVAL\n",
       ":   0ARRIVAL_TIME\n",
       ":   92513ARRIVAL_DELAY\n",
       ":   105071DIVERTED\n",
       ":   0CANCELLED\n",
       ":   0CANCELLATION_REASON\n",
       ":   0AIR_SYSTEM_DELAY\n",
       ":   4755640SECURITY_DELAY\n",
       ":   4755640AIRLINE_DELAY\n",
       ":   4755640LATE_AIRCRAFT_DELAY\n",
       ":   4755640WEATHER_DELAY\n",
       ":   4755640\n",
       "\n"
      ],
      "text/plain": [
       "               YEAR               MONTH                 DAY         DAY_OF_WEEK \n",
       "                  0                   0                   0                   0 \n",
       "            AIRLINE       FLIGHT_NUMBER         TAIL_NUMBER      ORIGIN_AIRPORT \n",
       "                  0                   0                   0                   0 \n",
       "DESTINATION_AIRPORT SCHEDULED_DEPARTURE      DEPARTURE_TIME     DEPARTURE_DELAY \n",
       "                  0                   0               86153               86153 \n",
       "           TAXI_OUT          WHEELS_OFF      SCHEDULED_TIME        ELAPSED_TIME \n",
       "              89047               89047                   6              105071 \n",
       "           AIR_TIME            DISTANCE           WHEELS_ON             TAXI_IN \n",
       "             105071                   0               92513               92513 \n",
       "  SCHEDULED_ARRIVAL        ARRIVAL_TIME       ARRIVAL_DELAY            DIVERTED \n",
       "                  0               92513              105071                   0 \n",
       "          CANCELLED CANCELLATION_REASON    AIR_SYSTEM_DELAY      SECURITY_DELAY \n",
       "                  0                   0             4755640             4755640 \n",
       "      AIRLINE_DELAY LATE_AIRCRAFT_DELAY       WEATHER_DELAY \n",
       "            4755640             4755640             4755640 "
      ]
     },
     "metadata": {},
     "output_type": "display_data"
    },
    {
     "name": "stdout",
     "output_type": "stream",
     "text": [
      "Number of flights: 5819079"
     ]
    }
   ],
   "source": [
    "#nrow(na.omit(flights))\n",
    "#colnames(flights)\n",
    "cat('Missing values:')\n",
    "colSums(is.na(flights))\n",
    "cat(c('Number of flights:', nrow(flights)))\n",
    "#summary(flights)\n",
    "\n",
    "nAirports = length(unique(flights$ORIGIN_AIRPORT))"
   ]
  },
  {
   "cell_type": "code",
   "execution_count": 7,
   "metadata": {},
   "outputs": [],
   "source": [
    "#nrow(na.omit(flights))\n",
    "#colSums(is.na(flights))"
   ]
  },
  {
   "cell_type": "markdown",
   "metadata": {},
   "source": [
    "October flights use five-digit airport codes. Here we replace them with three-letter IATA codes.\n",
    "\n",
    "The translation table was constructed by matching flights with numeric airport codes to those with IATA codes by comparing distance, origin airport, destination airport, airline and flight number."
   ]
  },
  {
   "cell_type": "code",
   "execution_count": 8,
   "metadata": {},
   "outputs": [],
   "source": [
    "airportCodeTable = read.table(file(\"data/AirportTranslationTable.txt\"), sep = \"\\t\", header = T,\n",
    "                             stringsAsFactors = FALSE)\n",
    "for (i in 1:nrow(airportCodeTable)) {\n",
    "  numberCode = as.character(airportCodeTable[i,1])\n",
    "  flights$ORIGIN_AIRPORT[flights$ORIGIN_AIRPORT == numberCode] = airportCodeTable[i,2]\n",
    "  flights$DESTINATION_AIRPORT[flights$DESTINATION_AIRPORT == numberCode] = airportCodeTable[i,2]\n",
    "}\n",
    "\n",
    "nAirports = length(unique(flights$ORIGIN_AIRPORT))"
   ]
  },
  {
   "cell_type": "code",
   "execution_count": 9,
   "metadata": {},
   "outputs": [],
   "source": [
    "#Most frequent origin airports in the dataset\n",
    "\n",
    "totalFlights = nrow(flights)\n",
    "allFlightAirports = unique(as.vector(as.matrix(flights[1:nrow(flights), c(8,9)])))\n",
    "allFlightAirports = as.character(allFlightAirports)\n",
    "originFreq = flights %>%\n",
    "  group_by(ORIGIN_AIRPORT) %>%\n",
    "  summarise (n = n()) %>%\n",
    "  mutate(freq = n / sum(n)) %>%\n",
    "  arrange(desc(freq))\n"
   ]
  },
  {
   "cell_type": "code",
   "execution_count": 10,
   "metadata": {},
   "outputs": [
    {
     "data": {
      "image/png": "[encoded data removed]",
      "text/plain": [
       "Plot with title \"Top 20 Most Popular Origin Airports in 2015\""
      ]
     },
     "metadata": {},
     "output_type": "display_data"
    }
   ],
   "source": [
    "originTable = table(flights$ORIGIN_AIRPORT)\n",
    "originTable = originTable[order(originTable, decreasing = T)]\n",
    "\n",
    "destFreq = table(flights$DESTINATION_AIRPORT)\n",
    "destFreq = destFreq[order(destFreq, decreasing = T)]\n",
    "\n",
    "options(repr.plot.width=8, repr.plot.height=3)\n",
    "par(las=1)\n",
    "barplot(originTable[1:20], cex.names = 0.5, cex.axis = 0.7,\n",
    "       main = \"Top 20 Most Popular Origin Airports in 2015\", cex.main = 0.8)\n"
   ]
  },
  {
   "cell_type": "code",
   "execution_count": 11,
   "metadata": {},
   "outputs": [
    {
     "data": {},
     "metadata": {},
     "output_type": "display_data"
    },
    {
     "data": {
      "image/png": "[encoded data removed]",
      "text/plain": [
       "plot without title"
      ]
     },
     "metadata": {},
     "output_type": "display_data"
    }
   ],
   "source": [
    "airportLocations = read.table(\"data/airports_withtimezone.txt\", header = T, sep = \"\\t\", quote = \"\", comment.char = \"\")\n",
    "numAirports = 20\n",
    "\n",
    "\n",
    "popAirportPointsDF = data.frame(AirportCode = character(numAirports ),\n",
    "                              Longitude = double(numAirports ),\n",
    "                              Latitude = double(numAirports ), \n",
    "                              flights = integer(numAirports ),  stringsAsFactors = FALSE)\n",
    "popAirportPointsDF$AirportCode[1:numAirports] = originFreq$ORIGIN_AIRPORT[1:numAirports]\n",
    "popAirportPointsDF$flights[1:numAirports] = originFreq$n[1:numAirports ]\n",
    "\n",
    "for (i in 1:numAirports) {\n",
    "  airport = as.character(popAirportPointsDF$AirportCode[i])  \n",
    "  popAirportPointsDF$Longitude[i] = airportLocations[as.character(airportLocations$IATA_CODE) == airport, 7]\n",
    "  popAirportPointsDF$Latitude[i] =  airportLocations[as.character(airportLocations$IATA_CODE) == airport, 6]\n",
    "}\n",
    "options(repr.plot.width=8, repr.plot.height=4)\n",
    "usa <- map_data(\"state\")\n",
    "gg1 <- ggplot() + geom_polygon(data = usa, aes(x = long, y = lat, group = group), \n",
    "                               fill = \"white\", col = \"black\") + coord_fixed(1.3) +\n",
    "  theme(panel.grid.major = element_blank(), panel.grid.minor = element_blank(),\n",
    "        panel.background = element_blank(), axis.line = element_line(colour = \"black\"))\n",
    "gg1 +  geom_point(data = popAirportPointsDF, \n",
    "             aes(x = Longitude, y = Latitude, size = sqrt(flights)), \n",
    "             color = \"red\", alpha = 0.6) +\n",
    "  geom_text_repel(data = popAirportPointsDF, aes(x = Longitude, y = Latitude, label=AirportCode),\n",
    "            size = 3,fontface = \"bold\") +\n",
    "  ggtitle('Top 20 Busiest Airports in US for domestic travel') + \n",
    "  theme_bw(base_size = 8) +\n",
    "  theme(plot.title = element_text(size=10, face = \"bold\")) + \n",
    "  labs(size=\"Sqrt Number of Flights\")\n"
   ]
  },
  {
   "cell_type": "code",
   "execution_count": 12,
   "metadata": {},
   "outputs": [
    {
     "data": {
      "image/png": "[encoded data removed]",
      "text/plain": [
       "plot without title"
      ]
     },
     "metadata": {},
     "output_type": "display_data"
    }
   ],
   "source": [
    "options(repr.plot.width=6, repr.plot.height=3)\n",
    "delayDist = data.frame(flights$ARRIVAL_DELAY)\n",
    "colnames(delayDist) = c(\"ARRIVAL_DELAY\")\n",
    "delayDist$ARRIVAL_DELAY[delayDist$ARRIVAL_DELAY > 200] = 200\n",
    "delayDist = na.omit(delayDist)\n",
    "plot1 = ggplot(delayDist, aes(x = ARRIVAL_DELAY)) +\n",
    "  geom_histogram(binwidth = 10, fill = \"grey\",col = \"black\") +\n",
    "  xlab('Arrival Delay (minutes)') +\n",
    "  ggtitle('Distributions of all arrival time differences') +\n",
    "  ylab('Count') +\n",
    "  theme(plot.title = element_text(size=10,face = \"bold\")) + \n",
    "  theme(legend.position=\"none\") +\n",
    "  theme(axis.text=element_text(size=8)) +\n",
    "  theme(axis.title=element_text(size=10, face = \"bold\")) \n",
    "delayDist = data.frame(delayDist[delayDist$ARRIVAL_DELAY > 0,])\n",
    "colnames(delayDist) = c(\"ARRIVAL_DELAY\")\n",
    "plot2 = ggplot(delayDist, aes(x = ARRIVAL_DELAY)) +\n",
    "  geom_histogram(binwidth = 10, fill = \"grey\",col = \"black\") +\n",
    "  xlab('Arrival Delay (minutes)') +\n",
    "  ggtitle('Distributions of late arrivals') +\n",
    "  ylab('Count') +\n",
    "  theme(plot.title = element_text(size=10,face = \"bold\")) + \n",
    "  theme(legend.position=\"none\") +\n",
    "  theme(axis.text=element_text(size=8)) +\n",
    "  theme(axis.title=element_text(size=10, face = \"bold\")) \n",
    "grid.arrange(plot1, plot2, ncol = 2)"
   ]
  },
  {
   "cell_type": "code",
   "execution_count": 13,
   "metadata": {},
   "outputs": [
    {
     "data": {
      "image/png": "[encoded data removed]",
      "text/plain": [
       "plot without title"
      ]
     },
     "metadata": {},
     "output_type": "display_data"
    }
   ],
   "source": [
    "options(repr.plot.width=8, repr.plot.height=3)\n",
    "flights$departureHour = flights$SCHEDULED_DEPARTURE %/% 100\n",
    "delayedFlights = flights[(flights$ARRIVAL_DELAY > 30) & !is.na(flights$ARRIVAL_DELAY),]\n",
    "#colnames(delayedFlights)\n",
    "plot3 = ggplot(flights, aes(x = departureHour)) +\n",
    "  geom_histogram(binwidth = 1, fill = \"grey\",col = \"black\") +\n",
    "  xlab('Departure Hour') +\n",
    "  ggtitle('Distributions of departure times for all flights') +\n",
    "  ylab('Count') +\n",
    "  theme(plot.title = element_text(size=10,face = \"bold\")) + \n",
    "  theme(legend.position=\"none\") +\n",
    "  theme(axis.text=element_text(size=8)) +\n",
    "  theme(axis.title=element_text(size=10, face = \"bold\")) \n",
    "plot4 = ggplot(delayedFlights, aes(x = departureHour)) +\n",
    "  geom_histogram(binwidth = 1, fill = \"grey\",col = \"black\") +\n",
    "  xlab('Departure Hour') +\n",
    "  ggtitle('Distributions of departure times for all flights \\n delayed more than 30 minutes on arrival') +\n",
    "  ylab('Count') +\n",
    "  theme(plot.title = element_text(size=10,face = \"bold\")) + \n",
    "  theme(legend.position=\"none\") +\n",
    "  theme(axis.text=element_text(size=8)) +\n",
    "  theme(axis.title=element_text(size=10, face = \"bold\")) \n",
    "grid.arrange(plot3, plot4, ncol = 2)"
   ]
  },
  {
   "cell_type": "code",
   "execution_count": 14,
   "metadata": {},
   "outputs": [
    {
     "data": {},
     "metadata": {},
     "output_type": "display_data"
    },
    {
     "data": {
      "image/png": "[encoded data removed]",
      "text/plain": [
       "plot without title"
      ]
     },
     "metadata": {},
     "output_type": "display_data"
    }
   ],
   "source": [
    "getAirportDelay = function(airport, df) {\n",
    "    sub.df = df[as.character(df$ORIGIN_AIRPORT) == airport,]\n",
    "    nFlights = nrow(sub.df)\n",
    "    weatherDelay = nrow(sub.df[!(is.na(sub.df$WEATHER_DELAY)) & (sub.df$WEATHER_DELAY > 0),])/nFlights\n",
    "    airSystemDelay = nrow(sub.df[!(is.na(sub.df$AIR_SYSTEM_DELAY)) & (sub.df$AIR_SYSTEM_DELAY > 0),])/nFlights\n",
    "    airlineDelay = nrow(sub.df[!(is.na(sub.df$AIRLINE_DELAY)) & (sub.df$AIRLINE_DELAY > 0),])/nFlights\n",
    "    securityDelay = nrow(sub.df[!(is.na(sub.df$SECURITY_DELAY)) & (sub.df$SECURITY_DELAY > 0),])/nFlights\n",
    "    lateAircraftDelay = nrow(sub.df[!(is.na(sub.df$LATE_AIRCRAFT_DELAY)) & (sub.df$LATE_AIRCRAFT_DELAY > 0),])/nFlights\n",
    "    return(c(weatherDelay, airSystemDelay, airlineDelay, securityDelay, lateAircraftDelay))\n",
    "}\n",
    "\n",
    "topAirportDelays = data.frame(airport = character(),\n",
    "                              weatherDelay = numeric(),\n",
    "                              airSystemDelay = numeric(),\n",
    "                              airlineDelay = numeric(),\n",
    "                              securityDelay = numeric(),\n",
    "                              lateAircraftDelay = numeric(),\n",
    "                              stringsAsFactors = FALSE)\n",
    "originFreqDF = as.data.frame(originFreq, stringsAsFactors = FALSE)\n",
    "for (i in 1:10) {\n",
    "    airport = as.character(originFreqDF[i,1])\n",
    "    topAirportDelays[i,1] = airport\n",
    "    topAirportDelays[i,2:6] = getAirportDelay(airport, flights)\n",
    "}\n",
    "\n",
    "d = ggplot(data = melt(topAirportDelays, id.var = \"airport\")) + \n",
    "    geom_bar(aes(y = value, x = airport, fill = variable), stat=\"identity\") +\n",
    "labs(x  = 'Airport', y = 'Proportion of Flights (-)') + theme_bw(base_size=10) + \n",
    "ggtitle('Delayed Flight Characteristics of 10 Busiest Airports') +\n",
    "theme(legend.title = element_blank(), plot.title = element_text(size = 10, face = \"bold\")) \n",
    "options(repr.plot.width=6, repr.plot.height=2.5)\n",
    "d"
   ]
  },
  {
   "cell_type": "code",
   "execution_count": 15,
   "metadata": {},
   "outputs": [
    {
     "data": {},
     "metadata": {},
     "output_type": "display_data"
    },
    {
     "data": {
      "image/png": "[encoded data removed]",
      "text/plain": [
       "plot without title"
      ]
     },
     "metadata": {},
     "output_type": "display_data"
    }
   ],
   "source": [
    "sfoFlightDelays = na.omit(flights$ARRIVAL_DELAY[flights$ORIGIN_AIRPORT == \"SFO\"])\n",
    "sjcFlightDelays = na.omit(flights$ARRIVAL_DELAY[flights$ORIGIN_AIRPORT == \"SJC\"])\n",
    "\n",
    "location = c(rep(\"SFO\", times = length(sfoFlightDelays)), \n",
    "                       rep(\"SJC\", times = length(sjcFlightDelays)))\n",
    "arrivalDelay = c(sfoFlightDelays, sjcFlightDelays)\n",
    "densityDF = data.frame(location, arrivalDelay, stringsAsFactors = FALSE)\n",
    "densityDF$arrivalDelay[densityDF$arrivalDelay >= 200] = 201\n",
    "\n",
    "ggplot(densityDF, aes(x=arrivalDelay, fill=location)) + geom_density(alpha=0.3) +\n",
    "xlab('Arrival Delay (minutes)') +\n",
    "ggtitle('Distributions of Arrival Delays in the Bay Area') + theme_bw(base_size=10) + \n",
    "theme(legend.title = element_blank(), plot.title = element_text(size = 10, face = \"bold\")) +\n",
    "annotate(\"text\", label = \"Delays over 200 minutes are set to 201 min\", \n",
    "         x = 120, y = 0.037, color = \"black\", size = 2.5)"
   ]
  },
  {
   "cell_type": "code",
   "execution_count": 16,
   "metadata": {},
   "outputs": [],
   "source": [
    "#Summarise most popular destination for each origin airport#Summari \n",
    "topAirports = originFreqDF[1:20,1]\n",
    "popDests = flights %>%\n",
    "  filter(flights$ORIGIN_AIRPORT %in% topAirports) %>%\n",
    "  group_by(ORIGIN_AIRPORT) %>%\n",
    "  summarise(popDestination = Mode(DESTINATION_AIRPORT))"
   ]
  },
  {
   "cell_type": "code",
   "execution_count": 18,
   "metadata": {},
   "outputs": [
    {
     "data": {},
     "metadata": {},
     "output_type": "display_data"
    },
    {
     "data": {
      "image/png": "[encoded data removed]",
      "text/plain": [
       "plot without title"
      ]
     },
     "metadata": {},
     "output_type": "display_data"
    }
   ],
   "source": [
    "#head(popAirportPointsDF)\n",
    "for (i in 1:numAirports) {\n",
    "  airport = as.character(popAirportPointsDF$AirportCode[i]) \n",
    "  destination = popDests$popDestination[popDests$ORIGIN_AIRPORT == airport]\n",
    "  popAirportPointsDF$Destination[i] = destination  \n",
    "  popAirportPointsDF$DestLongitude[i] = airportLocations[as.character(airportLocations$IATA_CODE) == destination, 7]\n",
    "  popAirportPointsDF$DestLatitude[i] =  airportLocations[as.character(airportLocations$IATA_CODE) == destination, 6]\n",
    "}\n",
    "\n",
    "x1 = popAirportPointsDF[,c(1,2,3)]\n",
    "x2 = popAirportPointsDF[,c(5,6,7)]\n",
    "#head(popAirportPointsDF)\n",
    "#head(x2)\n",
    "colnames(x2) = c(\"AirportCode\", \"Longitude\", \"Latitude\")\n",
    "allPointsDF = rbind(x1,x2)\n",
    "allPointsDF = unique(allPointsDF)\n",
    "#allPointsDF\n",
    "options(repr.plot.width=8, repr.plot.height=4)\n",
    "usa <- map_data(\"state\")\n",
    "gg1 <- ggplot() + geom_polygon(data = usa, aes(x = long, y = lat, group = group), \n",
    "                               fill = \"white\", col = \"black\") + coord_fixed(1.3) +\n",
    "  theme(panel.grid.major = element_blank(), panel.grid.minor = element_blank(),\n",
    "        panel.background = element_blank(), axis.line = element_line(colour = \"black\"))\n",
    "gg1 +  geom_point(data = allPointsDF, \n",
    "             aes(x = Longitude, y = Latitude, size = 3), \n",
    "             color = \"red\", alpha = 0.6) + \n",
    "  ggtitle('Most Popular domestic route of the Top 20 Busiest Airports in US') + \n",
    "  theme_bw(base_size = 8) +\n",
    "  theme(plot.title = element_text(size=10, face = \"bold\")) +\n",
    "  geom_curve(data= popAirportPointsDF,\n",
    "                 aes(x=Longitude, y=Latitude, \n",
    "                     xend=DestLongitude, yend=DestLatitude),\n",
    "                 col=\"black\",\n",
    "                 size=0.6,\n",
    "                 curvature=0.2, arrow =arrow(length = unit(0.03, \"npc\"))) + \n",
    "  theme(legend.position=\"none\") \n",
    "# geom_text_repel(data = allPointsDF, aes(x = Longitude, y = Latitude, label=AirportCode),\n",
    "#            size = 2.6,fontface = \"bold\") "
   ]
  },
  {
   "cell_type": "code",
   "execution_count": 19,
   "metadata": {},
   "outputs": [],
   "source": [
    "#Create frequency table for all locations (can be either the origin or destination airport)\n",
    "\n",
    "proportionFlights = rep(NA, times = length(allFlightAirports))\n",
    "origDestFreqTable = data.frame(allFlightAirports, proportionFlights)\n",
    "for (i in 1:length(allFlightAirports)) {\n",
    "  airport = origDestFreqTable[i,1]\n",
    "  flightsSubset = flights[as.character(flights$ORIGIN_AIRPORT) == airport | \n",
    "                          as.character(flights$DESTINATION_AIRPORT) == airport, ]\n",
    "  origDestFreqTable[i,2] = nrow(flightsSubset)/totalFlights\n",
    "}\n",
    "origDestFreqTable = origDestFreqTable[order(-origDestFreqTable$proportionFlights),]\n",
    "\n",
    "#Determine how many of the top n airports represent most of the data\n",
    "\n",
    "proportionInBothOrigAndDest = rep(NA, times = 100)\n",
    "for (i in 1:100) {\n",
    "  airportsSubset = origDestFreqTable[1:i,1]\n",
    "  #if (i%%10 == 0) {\n",
    "  #    message(i)\n",
    "  #}\n",
    "  matchingFlights = flights[as.character(flights$ORIGIN_AIRPORT) %in% airportsSubset & \n",
    "                            as.character(flights$DESTINATION_AIRPORT) %in% airportsSubset,]\n",
    "  proportionInBothOrigAndDest[i] = nrow(matchingFlights)/totalFlights\n",
    "}"
   ]
  },
  {
   "cell_type": "markdown",
   "metadata": {},
   "source": [
    "In preparation for building a model to predict flight delays, we might want to include additional data such as weather information for each airport. In order to determine an appropriate number of locations to include, I examined how many of the flights were captured by considering only the top n airports. I looked at how many flights were from the top n origin airports as well as how many flights were between the top n airports (origin and destination airport both within the top n)."
   ]
  },
  {
   "cell_type": "code",
   "execution_count": 20,
   "metadata": {},
   "outputs": [
    {
     "data": {},
     "metadata": {},
     "output_type": "display_data"
    },
    {
     "data": {
      "image/png": "[encoded data removed]",
      "text/plain": [
       "plot without title"
      ]
     },
     "metadata": {},
     "output_type": "display_data"
    }
   ],
   "source": [
    "#Plot of percentage of origin flights vs. number of airports\n",
    "\n",
    "numAirports = seq(1,100,by = 1)\n",
    "percentageOfOriginFlights = rep(NA, times = length(numAirports))\n",
    "percentageOfOriginAndDest = rep(NA, times = length(numAirports))\n",
    "plotdf = data.frame(numAirports, percentageOfOriginFlights, percentageOfOriginAndDest)\n",
    "plotdf$percentageOfOriginAndDest = proportionInBothOrigAndDest[1:100]\n",
    "for (i in 1:100) {\n",
    "  plotdf[i,2] = sum(originTable[1:i])/nrow(flights)\n",
    "}\n",
    "#head(plotdf)\n",
    "\n",
    "#head(plotdf)\n",
    "library(cowplot)\n",
    "\n",
    "colnames(plotdf) = c(\"numAirports\", \"By Origin\", \"By Origin and Destination\")\n",
    "d = ggplot(data = melt(plotdf, id.var = \"numAirports\"),\n",
    "           aes(x = numAirports, y = value)) + \n",
    "      geom_line(aes(color = variable, group = variable), size = 1.0) +\n",
    "labs(x  = 'Top n Airports', y = 'Proportion of Flights (-)') + theme_bw(base_size=10) + \n",
    "ggtitle('Proportion of Flights for the top n airports') +\n",
    "theme(legend.title = element_blank(), plot.title = element_text(size = 10, face = \"bold\"))\n",
    "options(repr.plot.width=6, repr.plot.height=2.5)\n",
    "d"
   ]
  },
  {
   "cell_type": "code",
   "execution_count": 21,
   "metadata": {},
   "outputs": [
    {
     "data": {},
     "metadata": {},
     "output_type": "display_data"
    },
    {
     "data": {
      "image/png": "[encoded data removed]",
      "text/plain": [
       "plot without title"
      ]
     },
     "metadata": {},
     "output_type": "display_data"
    }
   ],
   "source": [
    "delayedFlights = flights[(flights$ARRIVAL_DELAY > 15), ]\n",
    "\n",
    "delayedByAirline = delayedFlights %>%\n",
    "  group_by(AIRLINE) %>%\n",
    "  summarise(\n",
    "    n = n(),\n",
    "    delaytime = mean(DEPARTURE_DELAY, na.rm = TRUE)\n",
    "  ) %>%\n",
    "  ungroup() %>%\n",
    "  arrange(desc(delaytime))\n",
    "delayedByAirline = as.data.frame(delayedByAirline)\n",
    "options(repr.plot.width=6, repr.plot.height=3)\n",
    "\n",
    "delayedByAirline$AIRLINE = factor(delayedByAirline$AIRLINE, levels = delayedByAirline$AIRLINE)\n",
    "ggplot(data=na.omit(delayedByAirline), aes(x=AIRLINE, y=delaytime)) +\n",
    "  geom_bar(stat=\"identity\") + theme_bw(base_size=10) + \n",
    "ggtitle('Proportion of Flights for the top n airports') +\n",
    "xlab('Airline') + ylab('Mean Delay (minutes)') + \n",
    "ggtitle('Average delay for flights with an arrival delay of more than 15 minutes') +\n",
    "theme(legend.title = element_blank(), plot.title = element_text(size = 10, face = \"bold\"))"
   ]
  },
  {
   "cell_type": "code",
   "execution_count": 22,
   "metadata": {},
   "outputs": [],
   "source": [
    "delayThreshold = 30\n",
    "delaysGreaterThan30ByAirline = flights %>%\n",
    "  group_by(AIRLINE) %>%\n",
    "  summarise(\n",
    "    n = n(),\n",
    "    delayedNum = length(DEPARTURE_DELAY[DEPARTURE_DELAY > delayThreshold & !is.na(DEPARTURE_DELAY)]),\n",
    "    delayedFrac = delayedNum/n\n",
    "  ) %>%\n",
    "  ungroup() %>%\n",
    "  arrange(desc(delayedFrac))\n",
    "\n",
    "delaysGreaterThan30ByOrigin = flights %>%\n",
    "  group_by(ORIGIN_AIRPORT) %>%\n",
    "  summarise(\n",
    "    n = n(),\n",
    "    delayedNum = length(DEPARTURE_DELAY[DEPARTURE_DELAY > delayThreshold & !is.na(DEPARTURE_DELAY)]),\n",
    "    delayedFrac = delayedNum/n\n",
    "  ) %>%\n",
    "  ungroup() %>%\n",
    "  arrange(desc(n))"
   ]
  },
  {
   "cell_type": "code",
   "execution_count": 23,
   "metadata": {},
   "outputs": [],
   "source": [
    "flights$DATE = as.Date(paste(flights$YEAR, \n",
    "                             flights$MONTH, \n",
    "                             flights$DAY, \n",
    "                             sep = \"-\"), format=\"%Y-%m-%d\")\n",
    "allFlightsByDay = split(flights, flights$DATE)\n",
    "delayedFlights$DATE = as.Date(paste(delayedFlights$YEAR, \n",
    "                                    delayedFlights$MONTH, \n",
    "                                    delayedFlights$DAY, \n",
    "                                    sep = \"-\"), format=\"%Y-%m-%d\")\n",
    "flightsByDay = split(delayedFlights, delayedFlights$DATE)\n",
    "allFlightsByDay_vec = unlist(lapply(allFlightsByDay, nrow))\n",
    "numDelayByDay = unlist(lapply(flightsByDay, nrow))\n",
    "delayFracByDay = numDelayByDay/allFlightsByDay_vec"
   ]
  },
  {
   "cell_type": "code",
   "execution_count": 24,
   "metadata": {},
   "outputs": [
    {
     "data": {},
     "metadata": {},
     "output_type": "display_data"
    },
    {
     "data": {
      "image/png": "[encoded data removed]",
      "text/plain": [
       "plot without title"
      ]
     },
     "metadata": {},
     "output_type": "display_data"
    }
   ],
   "source": [
    "delayByDay.DF = as.data.frame(delayFracByDay)\n",
    "delayByDay.DF$index = seq(1, nrow(delayByDay.DF))\n",
    "#head(delayByDay.DF)\n",
    "plotByDay = ggplot(delayByDay.DF, aes(x = index)) + \n",
    "geom_line(aes(y=delayFracByDay), size = 0.6) +\n",
    "labs(x  = 'Day of year', y = 'Proportion of Delayed Flights  (-)') + \n",
    "ggtitle('Proportion of delayed flights by day of year') +\n",
    "theme_bw(base_size=8) + \n",
    "theme(plot.title = element_text(size = 10, face = \"bold\")) + \n",
    "scale_x_continuous(breaks = seq(0, 365, by = 30))\n",
    "plotByDay"
   ]
  },
  {
   "cell_type": "code",
   "execution_count": 25,
   "metadata": {},
   "outputs": [],
   "source": [
    "#most delayed Routes for flights longer than 100 miles\n",
    "delayedFlights = flights[(flights$ARRIVAL_DELAY > 30) & (flights$DISTANCE > 100), ]\n",
    "mostDelayedRoutes = delayedFlights %>%\n",
    "  group_by(ORIGIN_AIRPORT, DESTINATION_AIRPORT) %>%\n",
    "  summarise(meanDelay = mean(ARRIVAL_DELAY)) %>%\n",
    "  arrange(desc(meanDelay))"
   ]
  },
  {
   "cell_type": "code",
   "execution_count": 26,
   "metadata": {},
   "outputs": [],
   "source": [
    "#most delayed routes due to weather\n",
    "mostDelayedWeatherRoutes = delayedFlights %>%\n",
    "  group_by(ORIGIN_AIRPORT, DESTINATION_AIRPORT) %>%\n",
    "  summarise(meanDelay = mean(WEATHER_DELAY)) %>%\n",
    "  arrange(desc(meanDelay))"
   ]
  },
  {
   "cell_type": "code",
   "execution_count": 27,
   "metadata": {},
   "outputs": [
    {
     "data": {},
     "metadata": {},
     "output_type": "display_data"
    },
    {
     "data": {
      "image/png": "[encoded data removed]",
      "text/plain": [
       "plot without title"
      ]
     },
     "metadata": {},
     "output_type": "display_data"
    }
   ],
   "source": [
    "#Create a map of the top 50 routes that most frequently receive weather delays\n",
    "mostDelayedWeatherRoutes = as.data.frame(mostDelayedWeatherRoutes)\n",
    "mostDelayedWeatherRoutes = mostDelayedWeatherRoutes[1:50,]\n",
    "mostDelayedWeatherRoutes$OriginLongitude = NA\n",
    "mostDelayedWeatherRoutes$OriginLatitude = NA\n",
    "mostDelayedWeatherRoutes$DestLongitude = NA\n",
    "mostDelayedWeatherRoutes$DestLatitude = NA\n",
    "\n",
    "airportLocations = read.table(\"data/airports_withtimezone.txt\", header = T, sep = \"\\t\", quote = \"\", comment.char = \"\")\n",
    "\n",
    "for (i in 1:50) {\n",
    "  origin = as.character(mostDelayedWeatherRoutes$ORIGIN_AIRPORT[i])\n",
    "  destination = as.character(mostDelayedWeatherRoutes$DESTINATION_AIRPORT[i])\n",
    "  \n",
    "  mostDelayedWeatherRoutes$OriginLongitude[i] = airportLocations[as.character(airportLocations$IATA_CODE) == origin, 7]\n",
    "  mostDelayedWeatherRoutes$OriginLatitude[i] =  airportLocations[as.character(airportLocations$IATA_CODE) == origin, 6]\n",
    "  mostDelayedWeatherRoutes$DestLongitude[i] = airportLocations[as.character(airportLocations$IATA_CODE) == destination, 7]\n",
    "  mostDelayedWeatherRoutes$DestLatitude[i] =  airportLocations[as.character(airportLocations$IATA_CODE) == destination, 6]\n",
    "}\n",
    "\n",
    "locationPointsDF = data.frame(AirportCode = character(),\n",
    "                              Longitude = double(),\n",
    "                              Latitude = double(), stringsAsFactors = FALSE)\n",
    "for (i in 1:50) {\n",
    "  locationPointsDF[i,1] = as.character(mostDelayedWeatherRoutes[i,1])\n",
    "  locationPointsDF[i,2] = mostDelayedWeatherRoutes[i,4]\n",
    "  locationPointsDF[i,3] = mostDelayedWeatherRoutes[i,5]\n",
    "}\n",
    "for (i in 51:100) {\n",
    "  locationPointsDF[i,1] = as.character(mostDelayedWeatherRoutes[(i-50),2])\n",
    "  locationPointsDF[i,2] = mostDelayedWeatherRoutes[(i-50),6]\n",
    "  locationPointsDF[i,3] = mostDelayedWeatherRoutes[(i-50),7]\n",
    "}\n",
    "locationPointsDF = unique(locationPointsDF)\n",
    "\n",
    "options(repr.plot.width=8, repr.plot.height=4)\n",
    "\n",
    "locationPointsDF = locationPointsDF[locationPointsDF$Longitude >= -125,]\n",
    "mostDelayedWeatherRoutes_subset = mostDelayedWeatherRoutes[mostDelayedWeatherRoutes$OriginLongitude >= -125 &\n",
    "                                                           mostDelayedWeatherRoutes$DestLongitude >= -125, ]\n",
    "mostDelayedWeatherRoutes_subset = mostDelayedWeatherRoutes_subset[-c(31),]\n",
    "usa <- map_data(\"state\")\n",
    "gg1 <- ggplot() + geom_polygon(data = usa, aes(x = long, y = lat, group = group), \n",
    "                               fill = \"white\", col = \"black\") + coord_fixed(1.3) +\n",
    "  theme(panel.grid.major = element_blank(), panel.grid.minor = element_blank(),\n",
    "        panel.background = element_blank(), axis.line = element_line(colour = \"black\"))\n",
    "gg1 + geom_curve(data=mostDelayedWeatherRoutes_subset,\n",
    "                 aes(x=OriginLongitude, y=OriginLatitude, \n",
    "                     xend=DestLongitude, yend=DestLatitude),\n",
    "                 col=\"black\",\n",
    "                 size=0.6,\n",
    "                 curvature=0.2, arrow =arrow(length = unit(0.03, \"npc\"))) +\n",
    "  geom_point(data = locationPointsDF, \n",
    "             aes(x = Longitude, y = Latitude), \n",
    "             color = \"red\", size = 3, alpha = 0.5) +\n",
    "  ggtitle('Top 50 Most Weather-Delayed Routes in the Continental US') + \n",
    "  theme_bw(base_size = 8) +\n",
    "  theme(plot.title = element_text(size=10, face = \"bold\"))\n"
   ]
  },
  {
   "cell_type": "markdown",
   "metadata": {},
   "source": [
    "### Combine flight delay data and weather data for use with tensorFlow\n",
    "\n",
    "Weather data for the top 50 most popular airports was obtained from the IOWA Environmental Mesonet (one file per station).\n",
    "https://mesonet.agron.iastate.edu/request/download.phtml\n",
    "The following code combines the files into a single 'Weather' dataframe. \n",
    "\n",
    "Note, the timeseries interval varies within each file and across files."
   ]
  },
  {
   "cell_type": "code",
   "execution_count": 28,
   "metadata": {},
   "outputs": [],
   "source": [
    "#weatherDataAirports = origDestFreqTable[1:50,1]\n",
    "\n",
    "#all2015WeatherData = data.frame(station = character(),\n",
    "#                                dateTime = as.Date(character()),\n",
    "#                                temperature = as.numeric(),\n",
    "#                                dewPoint = as.numeric(),\n",
    "#                                relHumidity = as.numeric(),\n",
    "#                                windDirection = as.numeric(),\n",
    "#                                windSpeed = as.numeric(),\n",
    "#                                rainfallInches = as.numeric(),\n",
    "#                                altimeter = as.numeric(),\n",
    "#                                seaLevelPressure = as.numeric(),\n",
    "#                                visibility = as.numeric(),\n",
    "#                               windGusts = as.numeric())\n",
    "\n",
    "#for (i in 1:length(weatherDataAirports)) {\n",
    "#  airport = as.character(weatherDataAirports[i])\n",
    "#\n",
    "#  filename = paste(\"data/asos_\", airport, \"_2015to2016.txt\", sep = \"\")\n",
    "#  weatherData = read.csv(file(filename), header = T)\n",
    "#  if (ncol(weatherData) == 1) {\n",
    "#    weatherData = read.table(file(filename), header=T, sep=\"\\t\")\n",
    "#  }\n",
    "#  # Remove unnecessary columns and rename columns for clarity\n",
    "#  weatherData = subset(weatherData, select = -c(lon, lat, metar, skyc1, skyc2, skyc3, skyc4, \n",
    "#                                                skyl1, skyl2, skyl3, skyl4, wxcodes))\n",
    "#  colnames(weatherData) = colnames(all2015WeatherData)\n",
    "#    \n",
    "#  # Select only 2015 data  \n",
    "#  weatherData$dateTime =  as.POSIXct(weatherData$dateTime, format=\"%Y-%m-%d %H:%M\")\n",
    "#  weatherData_2015 = weatherData[weatherData$dateTime < as.POSIXct(\"2016-01-01 00:00\"),]\n",
    "#  print(nrow(weatherData_2015))\n",
    "#\n",
    "#  weatherData_2015[weatherData_2015 == \"M\"] = NA\n",
    "#  print(sapply(weatherData_2015, function(x) sum(!(is.na(x)))))\n",
    "#  all2015WeatherData = rbind(all2015WeatherData, weatherData_2015)\n",
    "#}\n",
    "\n",
    "# write.table(all2015WeatherData, file =\"CombinedWeatherData_2015FlightDelay.txt\", append = F,\n",
    "#             sep = \"\\t\", na = \"\", row.names = F, col.names = T)\n",
    "weatherData = read.table(file(\"data/CombinedWeatherData_2015FlightDelay.txt\"), sep = \"\\t\", header = T,\n",
    "                        stringsAsFactor = FALSE)"
   ]
  },
  {
   "cell_type": "code",
   "execution_count": 29,
   "metadata": {
    "code_folding": []
   },
   "outputs": [],
   "source": [
    "#Prepare the date/time columns in the flights dataframe for joining with weather data \n",
    "\n",
    "flights$SCHEDULED_DEPARTURE = combineDateTime(flights$YEAR, \n",
    "                                              flights$MONTH, \n",
    "                                              flights$DAY, \n",
    "                                              flights$SCHEDULED_DEPARTURE)\n",
    "flights$SCHEDULED_ARRIVAL = combineDateTime(flights$YEAR, \n",
    "                                            flights$MONTH, \n",
    "                                            flights$DAY, \n",
    "                                            flights$SCHEDULED_ARRIVAL)"
   ]
  },
  {
   "cell_type": "code",
   "execution_count": 30,
   "metadata": {},
   "outputs": [],
   "source": [
    "drops = c(\"FLIGHT_NUMBER\", \"TAIL_NUMBER\", \"DEPARTURE_TIME\", \"DEPARTURE_DELAY\",\n",
    "          \"TAXI_OUT\", \"WHEELS_OFF\", \"SCHEDULED_TIME\", \"AIR_TIME\", \n",
    "          \"ELAPSED_TIME\", \"WHEELS_ON\", \"TAXI_IN\",\"ARRIVAL_TIME\", \n",
    "          \"DIVERTED\", \"CANCELLED\", \"CANCELLATION_REASON\", \"AIR_SYSTEM_DELAY\",\n",
    "          \"SECURITY_DELAY\", \"AIRLINE_DELAY\", \"LATE_AIRCRAFT_DELAY\", \"WEATHER_DELAY\")\n",
    "flights = flights[, !(names(flights) %in% drops)]"
   ]
  },
  {
   "cell_type": "code",
   "execution_count": 31,
   "metadata": {},
   "outputs": [],
   "source": [
    "#Add timezone data for arrival and departure times (All weather data is UTC but flight times are local)\n",
    "\n",
    "airports = read.table(file(\"data/airports_withtimezone.txt\"), \n",
    "                      header = T, sep = \"\\t\", quote = \"\", comment.char = \"\")\n",
    "#nrow(airports)\n",
    "\n",
    "# Join flight dataset by airport code to add timezone\n",
    "timezoneDF = airports[,c(\"IATA_CODE\", \"DavidOlson_TIMEZONE\")]\n",
    "colnames(timezoneDF) = c(\"ORIGIN_AIRPORT\", \"TIMEZONE\")\n",
    "flights = join(flights, timezoneDF, by = \"ORIGIN_AIRPORT\")\n",
    "colnames(flights)[colnames(flights)==\"TIMEZONE\"] = \"ORIGIN_TZ\"\n",
    "\n",
    "colnames(timezoneDF) = c(\"DESTINATION_AIRPORT\", \"TIMEZONE\")\n",
    "flights = join(flights, timezoneDF, by = \"DESTINATION_AIRPORT\")\n",
    "colnames(flights)[colnames(flights)==\"TIMEZONE\"] = \"DESTINATION_TZ\""
   ]
  },
  {
   "cell_type": "code",
   "execution_count": 32,
   "metadata": {},
   "outputs": [],
   "source": [
    "rollingJoinWeatherData = function(weatherDF, flightsDF) {\n",
    "    \n",
    "  weatherDF$dateTime = as.character(weatherDF$dateTime)\n",
    "  weatherDF$dateTime = as.POSIXct(weatherDF$dateTime, format=\"%Y-%m-%d %H:%M\", tz = \"UTC\")\n",
    "  weatherDF = as.data.table(weatherDF)\n",
    "  flightsDF = as.data.table(flightsDF)\n",
    "  flightsDF[, join_time:=SCHEDULED_DEPARTURE_UTC]\n",
    "  weatherDF[, join_time:=dateTime]\n",
    "  colnames(flightsDF)[colnames(flightsDF)==\"ORIGIN_AIRPORT\"] = \"station\"\n",
    "  \n",
    "  setkey(weatherDF, station, join_time)\n",
    "  setkey(flightsDF, station, join_time)\n",
    "  joinedData = weatherDF[flightsDF, roll = \"nearest\"]\n",
    "  colnames(joinedData)[colnames(joinedData)==\"station\"] = \"ORIGIN_AIRPORT\"\n",
    "  joinedData$dateTime = NULL\n",
    "  joinedData$join_time = NULL\n",
    "  return(joinedData)\n",
    "}"
   ]
  },
  {
   "cell_type": "code",
   "execution_count": 33,
   "metadata": {},
   "outputs": [],
   "source": [
    "flights_UTC = flights\n",
    "flights_UTC$SCHEDULED_DEPARTURE = as.character(flights$SCHEDULED_DEPARTURE)\n",
    "flights_UTC$SCHEDULED_DEPARTURE_UTC = as.POSIXct(flights$SCHEDULED_DEPARTURE,\n",
    "                                                 tz = flights$ORIGIN_TZ)\n",
    "attributes(flights_UTC$SCHEDULED_DEPARTURE_UTC)$tzone = \"UTC\"\n",
    "flights_UTC$SCHEDULED_ARRIVAL = as.character(flights$SCHEDULED_ARRIVAL)\n",
    "flights_UTC$SCHEDULED_ARRIVAL_UTC = as.POSIXct(flights$SCHEDULED_ARRIVAL, \n",
    "                                               tz = flights_UTC$DESTINATION_TZ)\n",
    "attributes(flights_UTC$SCHEDULED_ARRIVAL_UTC)$tzone = \"UTC\""
   ]
  },
  {
   "cell_type": "code",
   "execution_count": 34,
   "metadata": {},
   "outputs": [
    {
     "name": "stdout",
     "output_type": "stream",
     "text": [
      "Total flights for model building: 3462514"
     ]
    }
   ],
   "source": [
    "weatherStations = unique(weatherData$station)\n",
    "#head(weatherStations)\n",
    "subsetFlights = flights_UTC[(flights_UTC$ORIGIN_AIRPORT %in% weatherStations) & \n",
    "                            (flights_UTC$DESTINATION_AIRPORT %in% weatherStations),]\n",
    "cat('Total flights for model building:', nrow(subsetFlights))"
   ]
  },
  {
   "cell_type": "code",
   "execution_count": 35,
   "metadata": {
    "scrolled": true
   },
   "outputs": [
    {
     "name": "stdout",
     "output_type": "stream",
     "text": [
      "Joined data column names:"
     ]
    },
    {
     "data": {
      "text/html": [
       "<ol class=list-inline>\n",
       "\t<li>'ORIGIN_AIRPORT'</li>\n",
       "\t<li>'temperature'</li>\n",
       "\t<li>'dewPoint'</li>\n",
       "\t<li>'relHumidity'</li>\n",
       "\t<li>'windDirection'</li>\n",
       "\t<li>'windSpeed'</li>\n",
       "\t<li>'rainfallInches'</li>\n",
       "\t<li>'altimeter'</li>\n",
       "\t<li>'seaLevelPressure'</li>\n",
       "\t<li>'visibility'</li>\n",
       "\t<li>'windGusts'</li>\n",
       "\t<li>'YEAR'</li>\n",
       "\t<li>'MONTH'</li>\n",
       "\t<li>'DAY'</li>\n",
       "\t<li>'DAY_OF_WEEK'</li>\n",
       "\t<li>'AIRLINE'</li>\n",
       "\t<li>'DESTINATION_AIRPORT'</li>\n",
       "\t<li>'SCHEDULED_DEPARTURE'</li>\n",
       "\t<li>'DISTANCE'</li>\n",
       "\t<li>'SCHEDULED_ARRIVAL'</li>\n",
       "\t<li>'ARRIVAL_DELAY'</li>\n",
       "\t<li>'departureHour'</li>\n",
       "\t<li>'DATE'</li>\n",
       "\t<li>'ORIGIN_TZ'</li>\n",
       "\t<li>'DESTINATION_TZ'</li>\n",
       "\t<li>'SCHEDULED_DEPARTURE_UTC'</li>\n",
       "\t<li>'SCHEDULED_ARRIVAL_UTC'</li>\n",
       "</ol>\n"
      ],
      "text/latex": [
       "\\begin{enumerate*}\n",
       "\\item 'ORIGIN\\_AIRPORT'\n",
       "\\item 'temperature'\n",
       "\\item 'dewPoint'\n",
       "\\item 'relHumidity'\n",
       "\\item 'windDirection'\n",
       "\\item 'windSpeed'\n",
       "\\item 'rainfallInches'\n",
       "\\item 'altimeter'\n",
       "\\item 'seaLevelPressure'\n",
       "\\item 'visibility'\n",
       "\\item 'windGusts'\n",
       "\\item 'YEAR'\n",
       "\\item 'MONTH'\n",
       "\\item 'DAY'\n",
       "\\item 'DAY\\_OF\\_WEEK'\n",
       "\\item 'AIRLINE'\n",
       "\\item 'DESTINATION\\_AIRPORT'\n",
       "\\item 'SCHEDULED\\_DEPARTURE'\n",
       "\\item 'DISTANCE'\n",
       "\\item 'SCHEDULED\\_ARRIVAL'\n",
       "\\item 'ARRIVAL\\_DELAY'\n",
       "\\item 'departureHour'\n",
       "\\item 'DATE'\n",
       "\\item 'ORIGIN\\_TZ'\n",
       "\\item 'DESTINATION\\_TZ'\n",
       "\\item 'SCHEDULED\\_DEPARTURE\\_UTC'\n",
       "\\item 'SCHEDULED\\_ARRIVAL\\_UTC'\n",
       "\\end{enumerate*}\n"
      ],
      "text/markdown": [
       "1. 'ORIGIN_AIRPORT'\n",
       "2. 'temperature'\n",
       "3. 'dewPoint'\n",
       "4. 'relHumidity'\n",
       "5. 'windDirection'\n",
       "6. 'windSpeed'\n",
       "7. 'rainfallInches'\n",
       "8. 'altimeter'\n",
       "9. 'seaLevelPressure'\n",
       "10. 'visibility'\n",
       "11. 'windGusts'\n",
       "12. 'YEAR'\n",
       "13. 'MONTH'\n",
       "14. 'DAY'\n",
       "15. 'DAY_OF_WEEK'\n",
       "16. 'AIRLINE'\n",
       "17. 'DESTINATION_AIRPORT'\n",
       "18. 'SCHEDULED_DEPARTURE'\n",
       "19. 'DISTANCE'\n",
       "20. 'SCHEDULED_ARRIVAL'\n",
       "21. 'ARRIVAL_DELAY'\n",
       "22. 'departureHour'\n",
       "23. 'DATE'\n",
       "24. 'ORIGIN_TZ'\n",
       "25. 'DESTINATION_TZ'\n",
       "26. 'SCHEDULED_DEPARTURE_UTC'\n",
       "27. 'SCHEDULED_ARRIVAL_UTC'\n",
       "\n",
       "\n"
      ],
      "text/plain": [
       " [1] \"ORIGIN_AIRPORT\"          \"temperature\"            \n",
       " [3] \"dewPoint\"                \"relHumidity\"            \n",
       " [5] \"windDirection\"           \"windSpeed\"              \n",
       " [7] \"rainfallInches\"          \"altimeter\"              \n",
       " [9] \"seaLevelPressure\"        \"visibility\"             \n",
       "[11] \"windGusts\"               \"YEAR\"                   \n",
       "[13] \"MONTH\"                   \"DAY\"                    \n",
       "[15] \"DAY_OF_WEEK\"             \"AIRLINE\"                \n",
       "[17] \"DESTINATION_AIRPORT\"     \"SCHEDULED_DEPARTURE\"    \n",
       "[19] \"DISTANCE\"                \"SCHEDULED_ARRIVAL\"      \n",
       "[21] \"ARRIVAL_DELAY\"           \"departureHour\"          \n",
       "[23] \"DATE\"                    \"ORIGIN_TZ\"              \n",
       "[25] \"DESTINATION_TZ\"          \"SCHEDULED_DEPARTURE_UTC\"\n",
       "[27] \"SCHEDULED_ARRIVAL_UTC\"  "
      ]
     },
     "metadata": {},
     "output_type": "display_data"
    }
   ],
   "source": [
    "joinedData = rollingJoinWeatherData(weatherData, subsetFlights)\n",
    "cat('Joined data column names:')\n",
    "colnames(joinedData)\n"
   ]
  },
  {
   "cell_type": "code",
   "execution_count": null,
   "metadata": {},
   "outputs": [],
   "source": []
  }
 ],
 "metadata": {
  "kernelspec": {
   "display_name": "R",
   "language": "R",
   "name": "ir"
  },
  "language_info": {
   "codemirror_mode": "r",
   "file_extension": ".r",
   "mimetype": "text/x-r-source",
   "name": "R",
   "pygments_lexer": "r",
   "version": "3.4.3"
  }
 },
 "nbformat": 4,
 "nbformat_minor": 2
}
